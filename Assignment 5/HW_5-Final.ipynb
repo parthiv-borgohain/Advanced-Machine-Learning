{
 "cells": [
  {
   "cell_type": "markdown",
   "metadata": {
    "id": "JKvSB2T_7DSd"
   },
   "source": [
    "<b> MIS 382N: ADVANCED MACHINE LEARNING<b>\n",
    "\n",
    "Assignment 5\n",
    "\n",
    "Total points: 55\n",
    "\n",
    "Due:  to be submitted via Canvas by 11:59 pm, Mon Nov 21st.\n",
    "\n",
    "Your homework should be written in a python notebook. If you prefer, you can work in groups of two. **Please note that only one student per team needs to submit the assignment on Canvas but make sure to include both students' names and UT EIDs.**\n",
    "\n",
    "For any question that requires a handwritten solution, you may upload scanned images of your solution in the notebook or attach them to the assignment . You may write your solution using markdown as well.\n",
    "\n",
    "Please make sure your code runs and the graphs and figures are displayed in your notebook before submitting. (%matplotlib inline)\n",
    "\n",
    "**Additionally, upload any images you plan to incorporate in your notebook as attachments so we can see them in case the uploaded images don't appear properly on our end.**"
   ]
  },
  {
   "cell_type": "markdown",
   "metadata": {
    "id": "c8BTU0m37IUE"
   },
   "source": [
    "**This can be an individual assignment or group of 2. If you choose to do it as a group, please specify who you are working with (name and EID), then only one student should submit the homework. Put your name and eid here.**\n",
    "\n",
    "Name: Parthiv Borgohain\n",
    "\n",
    "EID: pb25347\n",
    "\n",
    "Name: Manvi Goyal\n",
    "\n",
    "EID: mg65952"
   ]
  },
  {
   "cell_type": "markdown",
   "metadata": {
    "id": "jGfL_nla7Owr"
   },
   "source": [
    "# Question 1: Ensemble Methods [10 pts]\n",
    "Read this [article](https://towardsdatascience.com/catboost-vs-light-gbm-vs-xgboost-5f93620723db) on different boosting methods. Briefly describe the main advantages and disadvantages of  CatBoost as compared to XGBoost."
   ]
  },
  {
   "cell_type": "markdown",
   "metadata": {
    "id": "ffVeiLaguntO"
   },
   "source": [
    "### Answer:\n",
    "\n",
    "Advantages and Disadvantages of CatBoost over XGBoost:\n",
    "\n",
    "a) XGBoost is usually good for all type of datasets whereas CatBoost performs very well for categorical data. CatBoost does the one hot encoding automatically by using parameter one_hot_max_size and it offers variety of ways to do that. The parameter performs one hot encoding for all the categorical features. \n",
    "\n",
    "b) CatBoost is the best model both for accuracy and time for categorical variables if the dataset is properly encoded and tuned.\n",
    "\n",
    "c) Both these models differ in way the trees are built. CatBoost built tress that are symmetric i.e. balanced but this is not true for XGBoost. The symmetric tree has a lot of benefits like it aids in efficient CPU implementation which reduces the prediction time, makes swift model appliers, and controls overfitting as the structure serves as regularization. Hence, due to this CatBoost is generally faster than XGBoost.\n",
    "\n",
    "d) XGBoost uses the classic boosting whereas CatBoost uses ordered boosting. Classic boosting has a problem called prediction shift due to which it is more prone to overfitting on small datasets. The algorithms does not leave a chance of experiencing unseen data as they use same data instance that model was built with. In comparison, CatBoost has a permutation-driven approach for training the model on subset of data. The overfitting and leakage is prevented because residuals are calculated on another subset of data.\n",
    "\n",
    "e) To prevent overfitting CatBoost has overfitting detector which can stop training earlier.\n",
    "\n",
    "f) To process missing values, CatBoost has 3 missing value strategies.\n",
    "\n",
    "g) XGBoost has some more generalization capabilities than other boosting techniques"
   ]
  },
  {
   "cell_type": "markdown",
   "metadata": {
    "id": "Q5pwQYRU7dz6"
   },
   "source": [
    "# Question 2 : Ensemble Methods for Classification [25 pts]\n",
    "\n",
    "We look at the following dataset [GiveMeSomeCredit](https://www.kaggle.com/c/GiveMeSomeCredit) for this question. The dataset is extremely large so for this question we only consider a subset of the data which has been provided along with the notebook for this assignment.\n",
    "The task is to predict the probability that someone will experience financial distress in the next two years. The dataset has already been split into train and test sets."
   ]
  },
  {
   "cell_type": "code",
   "execution_count": null,
   "metadata": {
    "id": "MWJwIH6O24LF"
   },
   "outputs": [],
   "source": [
    "# Only use this code block if you are using Google Colab.\n",
    "# If you are using Jupyter Notebook, please ignore this code block. You can directly upload the file to your Jupyter Notebook file systems.\n",
    "from google.colab import files\n",
    "\n",
    "## It will prompt you to select a local file. Click on “Choose Files” then select and upload the file. \n",
    "## Wait for the file to be 100% uploaded. You should see the name of the file once Colab has uploaded it.\n",
    "uploaded = files.upload()"
   ]
  },
  {
   "cell_type": "code",
   "execution_count": 1,
   "metadata": {
    "colab": {
     "base_uri": "https://localhost:8080/",
     "height": 288
    },
    "id": "-cvY2yHO8TcQ",
    "outputId": "2939ba7a-0f9b-4574-cb6c-3298b186df5d"
   },
   "outputs": [
    {
     "data": {
      "text/html": [
       "<div>\n",
       "<style scoped>\n",
       "    .dataframe tbody tr th:only-of-type {\n",
       "        vertical-align: middle;\n",
       "    }\n",
       "\n",
       "    .dataframe tbody tr th {\n",
       "        vertical-align: top;\n",
       "    }\n",
       "\n",
       "    .dataframe thead th {\n",
       "        text-align: right;\n",
       "    }\n",
       "</style>\n",
       "<table border=\"1\" class=\"dataframe\">\n",
       "  <thead>\n",
       "    <tr style=\"text-align: right;\">\n",
       "      <th></th>\n",
       "      <th>SeriousDlqin2yrs</th>\n",
       "      <th>RevolvingUtilizationOfUnsecuredLines</th>\n",
       "      <th>age</th>\n",
       "      <th>NumberOfTime30-59DaysPastDueNotWorse</th>\n",
       "      <th>DebtRatio</th>\n",
       "      <th>MonthlyIncome</th>\n",
       "      <th>NumberOfOpenCreditLinesAndLoans</th>\n",
       "      <th>NumberOfTimes90DaysLate</th>\n",
       "      <th>NumberRealEstateLoansOrLines</th>\n",
       "      <th>NumberOfTime60-89DaysPastDueNotWorse</th>\n",
       "      <th>NumberOfDependents</th>\n",
       "    </tr>\n",
       "  </thead>\n",
       "  <tbody>\n",
       "    <tr>\n",
       "      <th>0</th>\n",
       "      <td>0</td>\n",
       "      <td>0.571373</td>\n",
       "      <td>66</td>\n",
       "      <td>0</td>\n",
       "      <td>0.430620</td>\n",
       "      <td>9274.0</td>\n",
       "      <td>10</td>\n",
       "      <td>0</td>\n",
       "      <td>1</td>\n",
       "      <td>0</td>\n",
       "      <td>0.0</td>\n",
       "    </tr>\n",
       "    <tr>\n",
       "      <th>1</th>\n",
       "      <td>0</td>\n",
       "      <td>0.233999</td>\n",
       "      <td>56</td>\n",
       "      <td>0</td>\n",
       "      <td>0.257380</td>\n",
       "      <td>5656.0</td>\n",
       "      <td>12</td>\n",
       "      <td>0</td>\n",
       "      <td>0</td>\n",
       "      <td>0</td>\n",
       "      <td>0.0</td>\n",
       "    </tr>\n",
       "    <tr>\n",
       "      <th>2</th>\n",
       "      <td>0</td>\n",
       "      <td>0.299270</td>\n",
       "      <td>33</td>\n",
       "      <td>0</td>\n",
       "      <td>0.114575</td>\n",
       "      <td>4747.0</td>\n",
       "      <td>8</td>\n",
       "      <td>0</td>\n",
       "      <td>0</td>\n",
       "      <td>0</td>\n",
       "      <td>3.0</td>\n",
       "    </tr>\n",
       "    <tr>\n",
       "      <th>3</th>\n",
       "      <td>0</td>\n",
       "      <td>0.032165</td>\n",
       "      <td>41</td>\n",
       "      <td>0</td>\n",
       "      <td>0.308326</td>\n",
       "      <td>8490.0</td>\n",
       "      <td>8</td>\n",
       "      <td>0</td>\n",
       "      <td>1</td>\n",
       "      <td>0</td>\n",
       "      <td>0.0</td>\n",
       "    </tr>\n",
       "    <tr>\n",
       "      <th>4</th>\n",
       "      <td>0</td>\n",
       "      <td>0.050591</td>\n",
       "      <td>36</td>\n",
       "      <td>0</td>\n",
       "      <td>0.862627</td>\n",
       "      <td>3333.0</td>\n",
       "      <td>8</td>\n",
       "      <td>0</td>\n",
       "      <td>2</td>\n",
       "      <td>0</td>\n",
       "      <td>0.0</td>\n",
       "    </tr>\n",
       "  </tbody>\n",
       "</table>\n",
       "</div>"
      ],
      "text/plain": [
       "   SeriousDlqin2yrs  RevolvingUtilizationOfUnsecuredLines  age  \\\n",
       "0                 0                              0.571373   66   \n",
       "1                 0                              0.233999   56   \n",
       "2                 0                              0.299270   33   \n",
       "3                 0                              0.032165   41   \n",
       "4                 0                              0.050591   36   \n",
       "\n",
       "   NumberOfTime30-59DaysPastDueNotWorse  DebtRatio  MonthlyIncome  \\\n",
       "0                                     0   0.430620         9274.0   \n",
       "1                                     0   0.257380         5656.0   \n",
       "2                                     0   0.114575         4747.0   \n",
       "3                                     0   0.308326         8490.0   \n",
       "4                                     0   0.862627         3333.0   \n",
       "\n",
       "   NumberOfOpenCreditLinesAndLoans  NumberOfTimes90DaysLate  \\\n",
       "0                               10                        0   \n",
       "1                               12                        0   \n",
       "2                                8                        0   \n",
       "3                                8                        0   \n",
       "4                                8                        0   \n",
       "\n",
       "   NumberRealEstateLoansOrLines  NumberOfTime60-89DaysPastDueNotWorse  \\\n",
       "0                             1                                     0   \n",
       "1                             0                                     0   \n",
       "2                             0                                     0   \n",
       "3                             1                                     0   \n",
       "4                             2                                     0   \n",
       "\n",
       "   NumberOfDependents  \n",
       "0                 0.0  \n",
       "1                 0.0  \n",
       "2                 3.0  \n",
       "3                 0.0  \n",
       "4                 0.0  "
      ]
     },
     "execution_count": 1,
     "metadata": {},
     "output_type": "execute_result"
    }
   ],
   "source": [
    "import pandas as pd\n",
    "\n",
    "data = pd.read_csv('hw5_data.csv')\n",
    "data.drop(data.columns[data.columns.str.contains('unnamed',case = False)],axis = 1, inplace = True)\n",
    "data.head()"
   ]
  },
  {
   "cell_type": "code",
   "execution_count": 2,
   "metadata": {
    "colab": {
     "base_uri": "https://localhost:8080/"
    },
    "id": "VCiWKO8k83pd",
    "outputId": "610cd46c-3556-47c0-e4a8-070c98225a8c"
   },
   "outputs": [
    {
     "name": "stdout",
     "output_type": "stream",
     "text": [
      "train (3750, 10) (3750,)\n",
      "test (1250, 10) (1250,)\n"
     ]
    }
   ],
   "source": [
    "from sklearn.model_selection import train_test_split\n",
    "y = data['SeriousDlqin2yrs']\n",
    "X = data.drop(['SeriousDlqin2yrs'],axis=1)\n",
    "X_train, X_test, y_train, y_test = train_test_split(X, y, test_size = 0.25, random_state = 7)\n",
    "\n",
    "print('train',X_train.shape,y_train.shape)\n",
    "print('test',X_test.shape,y_test.shape)"
   ]
  },
  {
   "cell_type": "markdown",
   "metadata": {
    "id": "1J4ptb5l9Bca"
   },
   "source": [
    "In this question, we will compare performance of different ensemble methods for classification problems: [Bagging](https://scikit-learn.org/stable/modules/generated/sklearn.ensemble.BaggingClassifier.html), [AdaBoost](https://scikit-learn.org/stable/modules/generated/sklearn.ensemble.AdaBoostClassifier.html), and [Random Forest](https://scikit-learn.org/stable/modules/generated/sklearn.ensemble.RandomForestClassifier.html) Classifiers.\n",
    "\n",
    "a) **[2.5 pts]** Use a Decision Tree Classifier with random_state = 14 for the classification problem. Report the accuracy_score and roc_auc_score on the test data for the classifier.\n",
    "\n",
    "b) **[2.5 pts]** Create an ensemble of 25 classifiers (i.e n_estimators = 25) with random_state = 14 for [bagging](https://scikit-learn.org/stable/modules/generated/sklearn.ensemble.BaggingClassifier.html) with base classifier as Decision Tree Classifier from part a). Report accuracy_score and roc_auc_score on the test data for the Bagging classifiers. \n",
    "\n",
    "c) **[5 pts]** Use the training data and build a [Random Forest](http://scikit-learn.org/stable/modules/generated/sklearn.ensemble.RandomForestClassifier.html) model for the classification problem. Find the best parameters (including *n_estimators*, *max_features* and *criterion*) using [GridSearchCV](http://scikit-learn.org/stable/modules/generated/sklearn.model_selection.GridSearchCV.html). Report the optimal parameters obtained by GridSearch. Report the confusion matrix  and [roc_auc_score](http://scikit-learn.org/stable/modules/generated/sklearn.metrics.roc_auc_score.html#sklearn.metrics.roc_auc_score) on test data using the model fit with best parameters.\n",
    "\n",
    "d) **[5 pts]** Use [AdaBoost](http://scikit-learn.org/stable/modules/generated/sklearn.ensemble.AdaBoostClassifier.html#sklearn.ensemble.AdaBoostClassifier) for this problem. Again, find the best parameters (including *n_estimators, learning_rate*), and report the confusion matrix and roc_auc_score on test data for the classifier fit with best parameters found using training data.\n",
    "\n",
    "e) **[5 pts]** Use [Gradient Boosting](https://scikit-learn.org/stable/modules/generated/sklearn.ensemble.GradientBoostingClassifier.html) for this problem. Again, find the best parameters (including *n_estimators, learning_rate*), and report the confusion matrix and roc_auc_score on test data for the classifier fit with best parameters found using training data.\n",
    "\n",
    "f) **[5 pts]** Compare the performance of decision tree from part a) with the ensemble methods, Briefly explain which of the three ensemble method performed better and why?"
   ]
  },
  {
   "cell_type": "code",
   "execution_count": 3,
   "metadata": {
    "id": "sbfLYzEESU29"
   },
   "outputs": [],
   "source": [
    "import matplotlib.pyplot as plt\n",
    "from sklearn.model_selection import (train_test_split,GridSearchCV)\n",
    "from sklearn.metrics import (accuracy_score,roc_auc_score)\n",
    "from sklearn.ensemble import (RandomForestClassifier,GradientBoostingClassifier,AdaBoostClassifier)\n",
    "from sklearn.ensemble import RandomForestClassifier, BaggingClassifier\n",
    "from sklearn.metrics import confusion_matrix\n",
    "from sklearn.tree import DecisionTreeClassifier\n",
    "from time import time\n",
    "%matplotlib inline"
   ]
  },
  {
   "cell_type": "code",
   "execution_count": 4,
   "metadata": {
    "id": "Db2-Md7SSkn1"
   },
   "outputs": [],
   "source": [
    "columns_list = list(X.columns)"
   ]
  },
  {
   "cell_type": "code",
   "execution_count": 5,
   "metadata": {
    "id": "X7p84Jd6Sr5c"
   },
   "outputs": [
    {
     "name": "stdout",
     "output_type": "stream",
     "text": [
      "Accuracy Score for Decision Tree Classifier is: 0.888\n",
      "ROC AUC Score for Decision Tree Classifier is: 0.5854582176218127\n"
     ]
    }
   ],
   "source": [
    "# Part a)\n",
    "dt_clf = DecisionTreeClassifier(random_state=14)\n",
    "dt_clf.fit(X_train,y_train)\n",
    "y_pred = dt_clf.predict(X_test)\n",
    "y_proba= dt_clf.predict_proba(X_test)\n",
    "\n",
    "dt_accuracy_score = accuracy_score(y_test, y_pred)\n",
    "dt_roc_auc_score = roc_auc_score(y_test, y_proba[:,1])\n",
    "\n",
    "print(\"Accuracy Score for Decision Tree Classifier is:\",dt_accuracy_score)\n",
    "print(\"ROC AUC Score for Decision Tree Classifier is:\",dt_roc_auc_score)"
   ]
  },
  {
   "cell_type": "code",
   "execution_count": 6,
   "metadata": {
    "id": "eu7882XwSubQ"
   },
   "outputs": [
    {
     "name": "stdout",
     "output_type": "stream",
     "text": [
      "Accuracy Score for Bagging Classifier with 25 classifiers is: 0.9256\n",
      "ROC AUC Score for Bagging Tree Classifier with 25 classifiers is: 0.7857106791214341\n"
     ]
    }
   ],
   "source": [
    "# Part b)\n",
    "\n",
    "bagging_clf = BaggingClassifier(random_state=14,n_estimators=25)\n",
    "bagging_clf.fit(X_train,y_train)\n",
    "y_pred = bagging_clf.predict(X_test)\n",
    "y_proba = bagging_clf.predict_proba(X_test)\n",
    "\n",
    "bagging_accuracy_score = accuracy_score(y_test, y_pred)\n",
    "bagging_roc_auc_score = roc_auc_score(y_test, y_proba[:,1])\n",
    "\n",
    "print(\"Accuracy Score for Bagging Classifier with 25 classifiers is:\",bagging_accuracy_score)\n",
    "print(\"ROC AUC Score for Bagging Tree Classifier with 25 classifiers is:\",bagging_roc_auc_score)"
   ]
  },
  {
   "cell_type": "code",
   "execution_count": 7,
   "metadata": {
    "id": "1PEjQ1fJSxAB"
   },
   "outputs": [
    {
     "name": "stdout",
     "output_type": "stream",
     "text": [
      "Best Parameters are: {'criterion': 'entropy', 'max_features': 1, 'n_estimators': 100, 'random_state': 17}\n",
      "Confusion Matrix is: [[1162    3]\n",
      " [  82    3]]\n",
      "Accuracy Score for Random Forest Classifier is: 0.932\n",
      "ROC AUC Score for Random Forest Classifier is: 0.8375612219136582\n"
     ]
    }
   ],
   "source": [
    "# Part c)\n",
    "import warnings \n",
    "warnings.filterwarnings('ignore')\n",
    "\n",
    "clf = RandomForestClassifier()\n",
    "\n",
    "param_grid = {\"n_estimators\": [1, 10, 50, 100],\n",
    "              \"max_features\": [1, 5, 10, \"auto\"],\n",
    "              \"criterion\": ['gini','entropy'],\n",
    "              \"random_state\": [17]}\n",
    "\n",
    "# Grid search\n",
    "grid_search_rf = GridSearchCV(clf, param_grid, cv=5, return_train_score=True)\n",
    "grid_search_rf.fit(X_train,y_train)\n",
    "\n",
    "print(\"Best Parameters are:\",grid_search_rf.best_params_)\n",
    "\n",
    "best_rf_model = grid_search_rf.best_estimator_\n",
    "y_pred = best_rf_model.predict(X_test)\n",
    "y_proba = best_rf_model.predict_proba(X_test)\n",
    "\n",
    "rf_accuracy_score = accuracy_score(y_test, y_pred)\n",
    "rf_roc_auc_score = roc_auc_score(y_test, y_proba[:,1])\n",
    "confusion_matrix_rf = confusion_matrix(y_test, y_pred)\n",
    "\n",
    "print(\"Confusion Matrix is:\",confusion_matrix_rf)\n",
    "print(\"Accuracy Score for Random Forest Classifier is:\",rf_accuracy_score)\n",
    "print(\"ROC AUC Score for Random Forest Classifier is:\",rf_roc_auc_score)"
   ]
  },
  {
   "cell_type": "code",
   "execution_count": 8,
   "metadata": {
    "id": "X7cPUJcDwIIe",
    "scrolled": true
   },
   "outputs": [
    {
     "name": "stdout",
     "output_type": "stream",
     "text": [
      "Best Parameters are: {'learning_rate': 0.1, 'n_estimators': 100, 'random_state': 17}\n",
      "Confusion Matrix is: [[1153   12]\n",
      " [  72   13]]\n",
      "Accuracy Score for AdaBoost Classifier is: 0.9328\n",
      "ROC AUC Score for AdaBoost Classifier is: 0.8390254986114618\n"
     ]
    }
   ],
   "source": [
    "# Part d)\n",
    "\n",
    "clf = AdaBoostClassifier()\n",
    "\n",
    "param_grid = {\"n_estimators\": [10, 100],\n",
    "          \"learning_rate\": [0.01, 0.1, 0.5],\n",
    "          \"random_state\": [17]\n",
    "          }\n",
    "\n",
    "# Grid search\n",
    "grid_search_ada = GridSearchCV(clf,param_grid,cv=5, return_train_score=True)\n",
    "grid_search_ada.fit(X_train,y_train)\n",
    "\n",
    "print(\"Best Parameters are:\",grid_search_ada.best_params_)\n",
    "\n",
    "best_ada_model = grid_search_ada.best_estimator_\n",
    "best_ada_model.fit(X_train,y_train)\n",
    "y_pred = best_ada_model.predict(X_test)\n",
    "y_proba = best_ada_model.predict_proba(X_test)\n",
    "\n",
    "ada_accuracy_score = accuracy_score(y_test, y_pred)\n",
    "ada_roc_auc_score = roc_auc_score(y_test, y_proba[:,1])\n",
    "confusion_matrix_ada = confusion_matrix(y_test, y_pred)\n",
    "\n",
    "print(\"Confusion Matrix is:\",confusion_matrix_ada)\n",
    "print(\"Accuracy Score for AdaBoost Classifier is:\",ada_accuracy_score)\n",
    "print(\"ROC AUC Score for AdaBoost Classifier is:\",ada_roc_auc_score)"
   ]
  },
  {
   "cell_type": "code",
   "execution_count": 9,
   "metadata": {
    "id": "9TsB5OT7_FPW"
   },
   "outputs": [
    {
     "name": "stdout",
     "output_type": "stream",
     "text": [
      "Best Parameters for Gradient Boosting Classifier are: {'learning_rate': 0.1, 'n_estimators': 10, 'random_state': 17}\n",
      "Confusion Matrix is: [[1164    1]\n",
      " [  84    1]]\n",
      "Accuracy Score for Gradient Boosting Classifier is: 0.932\n",
      "ROC AUC Score for Gradient Boosting Classifier is: 0.8366372128250441\n"
     ]
    }
   ],
   "source": [
    "# Part e)\n",
    "\n",
    "clf = GradientBoostingClassifier()\n",
    "\n",
    "param_grid = {\"n_estimators\": [10, 100],\n",
    "          \"learning_rate\": [0.01, 0.1, 0.5],\n",
    "          \"random_state\": [17]\n",
    "          }\n",
    "# Grid search\n",
    "grid_search_GB = GridSearchCV(clf,param_grid,cv=5,return_train_score=True)\n",
    "grid_search_GB.fit(X_train,y_train)\n",
    "\n",
    "print(\"Best Parameters for Gradient Boosting Classifier are:\",grid_search_GB.best_params_)\n",
    "\n",
    "best_model_GB = grid_search_GB.best_estimator_\n",
    "best_model_GB.fit(X_train,y_train)\n",
    "y_pred = best_model_GB.predict(X_test)\n",
    "y_proba = best_model_GB.predict_proba(X_test)\n",
    "\n",
    "GB_accuracy_score = accuracy_score(y_test, y_pred)\n",
    "GB_roc_auc_score = roc_auc_score(y_test, y_proba[:,1])\n",
    "confusion_matrix_GB = confusion_matrix(y_test, y_pred)\n",
    "\n",
    "print(\"Confusion Matrix is:\",confusion_matrix_GB)\n",
    "print(\"Accuracy Score for Gradient Boosting Classifier is:\",GB_accuracy_score)\n",
    "print(\"ROC AUC Score for Gradient Boosting Classifier is:\",GB_roc_auc_score)"
   ]
  },
  {
   "cell_type": "markdown",
   "metadata": {
    "id": "gZZ8VZaD-zm7"
   },
   "source": [
    "### Part f) \n",
    "Here is the summary of the performances of the various models-\n",
    "\n",
    "| Metric | Decision Tree | Bagging | Random Forest | AdaBoost | Gradient Boosting |\n",
    "| :- | :-: |:-: | :-: | :- | :-: |\n",
    "| Accuracy | 0.888 |0.9256 | 0.932 | 0.9328 | 0.932 |\n",
    "| ROC AUC | 0.585 | 0.786 |0.838 | 0.839 | 0.837 |\n",
    "\n",
    "A single decision tree is clearly inferior to the ensemble models in terms of both Accuracy and ROC AUC.\n",
    "\n",
    "The bagging classifier is clearly a better performer than the Decision Tree but seems to be inferior in terms of both Accuracy and ROC AUC score compared to the other three ensemble models.\n",
    "\n",
    "The other three ensemble models had pretty similar Accuracy and ROC AUC scores. In terms of both the accuracy score and ROC AUC, the AdaBoost Classifier performed the best with an accuracy of 93.28% and ROC AUC of 0.839.\n",
    "\n",
    "But in this problem context, we are trying to model the credit worthiness of individuals. So ideally we should be more interested in reducing the number of false negatives (incorrectly predicting someone who is not credit-worthy as being credit-worthy). Looking at the confusion matrices of the models, we can observe that the AdaBoost Classifier has a lower number of false negatives compared to Random Forest model and Gradient Boosting model (72 vs 82 and 84). So even with this metric, AdaBoost seems to be performing the best."
   ]
  },
  {
   "cell_type": "markdown",
   "metadata": {
    "id": "TP9yD4ZEmNAu"
   },
   "source": [
    "## Question 3: XGBoost on Datasets with varying Class Imbalance [15 points]\n",
    "\n",
    "You are given three datasets (all extracted from the [GiveMeSomeCredit](https://www.kaggle.com/c/GiveMeSomeCredit) dataset which was used in the last question). They have varying levels of class imbalance (positive to negative class ratio):\n",
    "1. dataset_equally_biased_final has a class ratio of 1:1\n",
    "2. dataset_originally_biased_final has a class ratio of 1:15\n",
    "3. dataset_highly_biased_final has a class ratio of 1:39\n",
    "\n",
    "Use [XGBoost](https://xgboost.readthedocs.io/en/stable/python/python_api.html) on these three datasets and plot the [calibration curves](https://scikit-learn.org/stable/modules/generated/sklearn.calibration.calibration_curve.html#sklearn.calibration.calibration_curve) for your predictions. Examine both uniform and quantile binning strategies for your plots and observe how the plots look. For which of the datasets is you model calibrated the best? Which of the binning strategies provide more informative visualization for each of the datasets?"
   ]
  },
  {
   "cell_type": "code",
   "execution_count": null,
   "metadata": {
    "id": "A3hPYJqphpVl"
   },
   "outputs": [],
   "source": [
    "# Only use this code block if you are using Google Colab.\n",
    "# If you are using Jupyter Notebook, please ignore this code block. You can directly upload the file to your Jupyter Notebook file systems.\n",
    "from google.colab import files\n",
    "\n",
    "## It will prompt you to select a local file. Click on “Choose Files” then select and upload the file. \n",
    "## Wait for the file to be 100% uploaded. You should see the name of the file once Colab has uploaded it.\n",
    "uploaded = files.upload()"
   ]
  },
  {
   "cell_type": "code",
   "execution_count": 10,
   "metadata": {
    "colab": {
     "base_uri": "https://localhost:8080/"
    },
    "id": "VAqA-EyldUwi",
    "outputId": "f3ad6f2e-f8ad-49b2-e3ca-c18e6e0661d6"
   },
   "outputs": [
    {
     "name": "stdout",
     "output_type": "stream",
     "text": [
      "Balanced Dataset\n",
      "0    4000\n",
      "1    4000\n",
      "Name: SeriousDlqin2yrs, dtype: int64\n",
      "0    1000\n",
      "1    1000\n",
      "Name: SeriousDlqin2yrs, dtype: int64\n",
      "Originally Imbalanced Dataset\n",
      "0    7466\n",
      "1     534\n",
      "Name: SeriousDlqin2yrs, dtype: int64\n",
      "0    1866\n",
      "1     134\n",
      "Name: SeriousDlqin2yrs, dtype: int64\n",
      "Highly Imbalanced Dataset\n",
      "0    7800\n",
      "1     200\n",
      "Name: SeriousDlqin2yrs, dtype: int64\n",
      "0    1950\n",
      "1      50\n",
      "Name: SeriousDlqin2yrs, dtype: int64\n"
     ]
    }
   ],
   "source": [
    "from sklearn.model_selection import train_test_split\n",
    "import pandas as pd\n",
    "\n",
    "dataset = pd.read_csv(\"data_equally_biased_final.csv\")\n",
    "X = dataset.drop(['SeriousDlqin2yrs'], axis=1)\n",
    "y = dataset['SeriousDlqin2yrs']\n",
    "X_train1, X_test1, y_train1, y_test1 = train_test_split(X, y, test_size = 0.2, random_state = 15, stratify = y)\n",
    "print(\"Balanced Dataset\")\n",
    "# Number of classes in training Data\n",
    "print(y_train1.value_counts())\n",
    "# Number of classes in test Data\n",
    "print(y_test1.value_counts())\n",
    "\n",
    "dataset = pd.read_csv(\"data_originally_biased_final.csv\")\n",
    "X = dataset.drop(['SeriousDlqin2yrs'], axis=1)\n",
    "y = dataset['SeriousDlqin2yrs']\n",
    "X_train2, X_test2, y_train2, y_test2 = train_test_split(X, y, test_size = 0.2, random_state = 15, stratify = y)\n",
    "print(\"Originally Imbalanced Dataset\")\n",
    "# Number of classes in training Data\n",
    "print(y_train2.value_counts())\n",
    "# Number of classes in test Data\n",
    "print(y_test2.value_counts())\n",
    "\n",
    "dataset = pd.read_csv(\"data_highly_biased_final.csv\")\n",
    "X = dataset.drop(['SeriousDlqin2yrs'], axis=1)\n",
    "y = dataset['SeriousDlqin2yrs']\n",
    "X_train3, X_test3, y_train3, y_test3 = train_test_split(X, y, test_size = 0.2, random_state = 15, stratify = y)\n",
    "print(\"Highly Imbalanced Dataset\")\n",
    "# Number of classes in training Data\n",
    "print(y_train3.value_counts())\n",
    "# Number of classes in test Data\n",
    "print(y_test3.value_counts())"
   ]
  },
  {
   "cell_type": "code",
   "execution_count": 11,
   "metadata": {
    "id": "y4hIXJQUub6R"
   },
   "outputs": [],
   "source": [
    "import matplotlib.pyplot as plt\n",
    "from sklearn.model_selection import (train_test_split,GridSearchCV)\n",
    "from sklearn.metrics import (accuracy_score,roc_auc_score)\n",
    "from sklearn.ensemble import (RandomForestClassifier,GradientBoostingClassifier,AdaBoostClassifier)\n",
    "from sklearn.ensemble import RandomForestClassifier, BaggingClassifier\n",
    "from sklearn.metrics import confusion_matrix\n",
    "from sklearn.tree import DecisionTreeClassifier\n",
    "from time import time\n",
    "import xgboost\n",
    "\n",
    "%matplotlib inline"
   ]
  },
  {
   "cell_type": "code",
   "execution_count": 12,
   "metadata": {
    "colab": {
     "base_uri": "https://localhost:8080/"
    },
    "id": "ylGDD7IjjVp-",
    "outputId": "c76b997a-51be-4ef0-fb18-d7370863ed34"
   },
   "outputs": [
    {
     "name": "stdout",
     "output_type": "stream",
     "text": [
      "Balanced Dataset\n",
      "{'learning_rate': 0.1, 'n_estimators': 100, 'random_state': 17}\n",
      "training time 0.539 s\n",
      "predict time 0.006 s\n",
      "XGBoost conf matrix: \n",
      "[[794 206]\n",
      " [228 772]]\n",
      "Accuracy: 0.783\n",
      " AUC_ROC: 0.856863\n",
      "\n",
      "Originally Imbalanced Dataset\n",
      "{'learning_rate': 0.1, 'n_estimators': 100, 'random_state': 17}\n",
      "training time 0.562 s\n",
      "predict time 0.007 s\n",
      "XGBoost conf matrix: \n",
      "[[1843   23]\n",
      " [ 114   20]]\n",
      "Accuracy: 0.9315\n",
      " AUC_ROC: 0.8342691686263217\n",
      "\n",
      "Highly Imbalanced Dataset\n",
      "{'learning_rate': 0.01, 'n_estimators': 100, 'random_state': 17}\n",
      "training time 0.516 s\n",
      "predict time 0.007 s\n",
      "XGBoost conf matrix: \n",
      "[[1945    5]\n",
      " [  50    0]]\n",
      "Accuracy: 0.9725\n",
      " AUC_ROC: 0.8398564102564102\n",
      "\n"
     ]
    }
   ],
   "source": [
    "# Using the earlier dataset and applying XGBoost on it\n",
    "\n",
    "clf = xgboost.XGBClassifier()\n",
    "\n",
    "param_grid = {\"n_estimators\": [10, 100],\n",
    "          \"learning_rate\": [0.01, 0.1, 0.5],\n",
    "          \"random_state\": [17]\n",
    "          }\n",
    "\n",
    "# Grid search\n",
    "grid_search = GridSearchCV(clf, param_grid=param_grid)\n",
    "\n",
    "# Balanced Dataset\n",
    "print(\"Balanced Dataset\")\n",
    "grid_search.fit(X_train1, y_train1)\n",
    "print(grid_search.best_params_)\n",
    "clf.set_params(**grid_search.best_params_)\n",
    "\n",
    "t0 = time()\n",
    "clf.fit(X_train1, y_train1)\n",
    "print(\"training time\", round(time()-t0, 3), \"s\")\n",
    "\n",
    "t0 = time()\n",
    "y_pred_gbt1 = clf.predict(X_test1)\n",
    "print(\"predict time\", round(time()-t0, 3), \"s\")\n",
    "\n",
    "print(\"XGBoost conf matrix: \")\n",
    "print(confusion_matrix(y_test1, y_pred_gbt1))\n",
    "\n",
    "y_pred_proba1 = clf.predict_proba(X_test1)[:,1]\n",
    "\n",
    "acc_score = accuracy_score(y_test1,y_pred_gbt1)\n",
    "auc_score = roc_auc_score(y_test1,y_pred_proba1)\n",
    "print(\"Accuracy: {}\\n AUC_ROC: {}\\n\".format(acc_score,auc_score))\n",
    "\n",
    "\n",
    "# Originally Imbalanced Dataset\n",
    "\n",
    "print(\"Originally Imbalanced Dataset\")\n",
    "grid_search.fit(X_train2, y_train2)\n",
    "print(grid_search.best_params_)\n",
    "clf.set_params(**grid_search.best_params_)\n",
    "\n",
    "t0 = time()\n",
    "clf.fit(X_train2, y_train2)\n",
    "print(\"training time\", round(time()-t0, 3), \"s\")\n",
    "\n",
    "t0 = time()\n",
    "y_pred_gbt2 = clf.predict(X_test2)\n",
    "print(\"predict time\", round(time()-t0, 3), \"s\")\n",
    "\n",
    "print(\"XGBoost conf matrix: \")\n",
    "print(confusion_matrix(y_test2, y_pred_gbt2))\n",
    "\n",
    "y_pred_proba2 = clf.predict_proba(X_test2)[:,1]\n",
    "\n",
    "acc_score = accuracy_score(y_test2,y_pred_gbt2)\n",
    "auc_score = roc_auc_score(y_test2,y_pred_proba2)\n",
    "print(\"Accuracy: {}\\n AUC_ROC: {}\\n\".format(acc_score,auc_score))\n",
    "\n",
    "# Highly Imalanced Dataset\n",
    "\n",
    "print(\"Highly Imbalanced Dataset\")\n",
    "grid_search.fit(X_train3, y_train3)\n",
    "print(grid_search.best_params_)\n",
    "clf.set_params(**grid_search.best_params_)\n",
    "\n",
    "t0 = time()\n",
    "clf.fit(X_train3, y_train3)\n",
    "print(\"training time\", round(time()-t0, 3), \"s\")\n",
    "\n",
    "t0 = time()\n",
    "y_pred_gbt3 = clf.predict(X_test3)\n",
    "print(\"predict time\", round(time()-t0, 3), \"s\")\n",
    "\n",
    "print(\"XGBoost conf matrix: \")\n",
    "print(confusion_matrix(y_test3, y_pred_gbt3))\n",
    "\n",
    "y_pred_proba3 = clf.predict_proba(X_test3)[:,1]\n",
    "\n",
    "acc_score = accuracy_score(y_test3,y_pred_gbt3)\n",
    "auc_score = roc_auc_score(y_test3,y_pred_proba3)\n",
    "print(\"Accuracy: {}\\n AUC_ROC: {}\\n\".format(acc_score,auc_score))"
   ]
  },
  {
   "cell_type": "code",
   "execution_count": 13,
   "metadata": {
    "id": "KHmxgNDIk3xs"
   },
   "outputs": [
    {
     "data": {
      "text/plain": [
       "<matplotlib.legend.Legend at 0x2cd3e125400>"
      ]
     },
     "execution_count": 13,
     "metadata": {},
     "output_type": "execute_result"
    },
    {
     "data": {
      "image/png": "[encoded data removed]",
      "text/plain": [
       "<Figure size 432x288 with 1 Axes>"
      ]
     },
     "metadata": {
      "needs_background": "light"
     },
     "output_type": "display_data"
    }
   ],
   "source": [
    "from sklearn.calibration import calibration_curve\n",
    "import matplotlib.pyplot as plt\n",
    "\n",
    "#Plot all calibration curves for strategy = 'uniform' (It is uniform by default)\n",
    "prob_true_balanced,prob_pred_balanced = calibration_curve(y_test1,y_pred_proba1,strategy='uniform')\n",
    "prob_true_imbalanced,prob_pred_imbalanced = calibration_curve(y_test2,y_pred_proba2,strategy='uniform')\n",
    "prob_true_highly_imbalanced,prob_pred_highly_imbalanced = calibration_curve(y_test3,y_pred_proba3,strategy='uniform')\n",
    "\n",
    "fig, ax = plt.subplots()\n",
    "# only these two lines are calibration curves\n",
    "plt.plot(prob_true_balanced,prob_pred_balanced, marker='o', linewidth=1, color='blue', label='Balanced Dataset')\n",
    "plt.plot(prob_true_imbalanced,prob_pred_imbalanced, marker='o', linewidth=1, color='orange',label='Originally Imbalanced Dataset')\n",
    "plt.plot(prob_true_highly_imbalanced,prob_pred_highly_imbalanced, marker='o', color='red',linewidth=1, label='Highly Imbalanced Dataset')\n",
    "plt.plot([0, 1], [0, 1], linestyle='--',color='black',label='Perfectly Calibrated')\n",
    "plt.legend()"
   ]
  },
  {
   "cell_type": "code",
   "execution_count": 14,
   "metadata": {
    "id": "03dktaNFxCFP"
   },
   "outputs": [
    {
     "data": {
      "text/plain": [
       "<matplotlib.legend.Legend at 0x2cd3e7d9d90>"
      ]
     },
     "execution_count": 14,
     "metadata": {},
     "output_type": "execute_result"
    },
    {
     "data": {
      "image/png": "[encoded data removed]",
      "text/plain": [
       "<Figure size 432x288 with 1 Axes>"
      ]
     },
     "metadata": {
      "needs_background": "light"
     },
     "output_type": "display_data"
    }
   ],
   "source": [
    "#Plot all calibration curves for strategy = 'quantile'\n",
    "prob_true_balanced,prob_pred_balanced = calibration_curve(y_test1,y_pred_proba1,strategy='quantile')\n",
    "prob_true_imbalanced,prob_pred_imbalanced = calibration_curve(y_test2,y_pred_proba2,strategy='quantile')\n",
    "prob_true_highly_imbalanced,prob_pred_highly_imbalanced = calibration_curve(y_test3,y_pred_proba3,strategy='quantile')\n",
    "\n",
    "fig, ax = plt.subplots()\n",
    "# only these two lines are calibration curves\n",
    "plt.plot(prob_true_balanced,prob_pred_balanced, marker='o', linewidth=1, color='blue', label='Balanced Dataset')\n",
    "plt.plot(prob_true_imbalanced,prob_pred_imbalanced, marker='o', linewidth=1, color='orange',label='Originally Imbalanced Dataset')\n",
    "plt.plot(prob_true_highly_imbalanced,prob_pred_highly_imbalanced, marker='o', color='red',linewidth=1, label='Highly Imbalanced Dataset')\n",
    "plt.plot([0, 1], [0, 1], linestyle='--',color='black',label='Perfectly Calibrated')\n",
    "plt.legend()"
   ]
  },
  {
   "cell_type": "markdown",
   "metadata": {},
   "source": [
    "Observing the plots above, the model trained on the balanced dataset seems to be very well calibrated (close to perfect calibration). This seems to be the best model in terms of calibration.\n",
    "\n",
    "The uniform binning strategy is the better approach for visualizing the calibration curves. This strategy ensures the bin widths are equal. So, even if there are not many predicted probabilities that are high, these points will appear on the calibration plot. However, the quantile strategy tries to keep the same number of samples in every bin. As a result, if the model predicts very less no. of data points with high probabilities, these points will not show up on the calibration curve (the lines for imbalanced and highly imbalanced datasets do not extend much on our plot above). As a result, the uniform strategy seems to be better suited for visualizing calibration curves in this context. "
   ]
  },
  {
   "cell_type": "markdown",
   "metadata": {
    "id": "ss00Jw5KkJdR"
   },
   "source": [
    "# Question 4: Deep Learning Mechanisms [5 points]\n",
    "\n",
    "Briefly explain the motivation behind the following mechanisms commonly used in deep learning: <br>\n",
    "a) **[2.5 pts]** Skip connections <br>\n",
    "b) **[2.5 pts]** Batch normalization"
   ]
  },
  {
   "cell_type": "markdown",
   "metadata": {
    "id": "BM-3J85Ew9oA"
   },
   "source": [
    "### Answer:"
   ]
  },
  {
   "cell_type": "markdown",
   "metadata": {
    "id": "lzw5bMvVw_Sa"
   },
   "source": [
    "**(a)** For understanding skip connections, we need to understand how backpropagation works. In backpropagation, the parameters in the network are updated in such a way that loss is minimized by calculating the gradient using chain rule. As a result of this, the gradient gets smaller, sometimes approaching to zero as we go towards earlier layers. Hence, due to weights approaching zero, the weights of earlier layers are not updated and this phenomenon is known as vanishing gradient. To counter this, the skip connections are used i.e. it skips the layers in the network by providing an alternative path. Due to the skip connections, a much smoother loss surface is obtained and model converges a lot faster than without skip connections. \n",
    "Skip connections are utilized in following two ways:\n",
    "1. ResNet: In this case, skip connections are done through addition. The gradient is preserved as the backpropagation is done through the identity function by using vector addition\n",
    "2. DenseNet: In this case, skip connections are done through concatenation. This process tries that maximum amount of information is flown between different layers through the concatenation of feature maps. This also ensures feature reusability.\n",
    "\n",
    "**(b)**  As the name suggest, in Normalization, the inputs are normalized to helps model converge faster as the model parameters have a level playing field.  We know that in Neural Networks, different data in mini-batches is passed due to high the input distribution keeps on changing.The layers of deep network could be sensitive to the initial random weights, due to which it’s training becomes bit difficult. The reason can be that post the weight updating, “distribution of inputs” can change after each mini-batch. If we apply the concept of normalization in case of neural networks, it will help in normalizing mini-batches which will ultimately lead the model to converge faster. It stabilizes the learning process and reduces number of training epochs for training deep networks. This is because unwanted gradients occur if the model parameters have different values and normalization helps in avoiding such gradients, resulting in faster model convergence."
   ]
  }
 ],
 "metadata": {
  "colab": {
   "collapsed_sections": [],
   "provenance": []
  },
  "kernelspec": {
   "display_name": "Python 3 (ipykernel)",
   "language": "python",
   "name": "python3"
  },
  "language_info": {
   "codemirror_mode": {
    "name": "ipython",
    "version": 3
   },
   "file_extension": ".py",
   "mimetype": "text/x-python",
   "name": "python",
   "nbconvert_exporter": "python",
   "pygments_lexer": "ipython3",
   "version": "3.9.12"
  }
 },
 "nbformat": 4,
 "nbformat_minor": 1
}
